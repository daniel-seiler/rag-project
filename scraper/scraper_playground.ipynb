{
 "cells": [
  {
   "cell_type": "code",
   "id": "initial_id",
   "metadata": {
    "collapsed": true,
    "ExecuteTime": {
     "end_time": "2024-09-16T15:27:26.299974Z",
     "start_time": "2024-09-16T15:27:26.254891Z"
    }
   },
   "source": [
    "from bs4 import BeautifulSoup\n",
    "\n",
    "url_location = \"/home/uncreative/Git/pcl-documentation/\"\n",
    "url_startpoint = \"modules.html\"\n",
    "\n",
    "with open(url_location + url_startpoint, \"r\") as f:\n",
    "    doc = BeautifulSoup(f, \"html.parser\")"
   ],
   "outputs": [],
   "execution_count": 2
  },
  {
   "metadata": {
    "ExecuteTime": {
     "end_time": "2024-09-16T15:27:26.314582Z",
     "start_time": "2024-09-16T15:27:26.308827Z"
    }
   },
   "cell_type": "code",
   "source": [
    "import re\n",
    "\n",
    "def get_internal_links(soup):\n",
    "    links = []\n",
    "    href_pattern = re.compile(\"https?://\")\n",
    "    for a in soup.find_all(\"a\"):\n",
    "        if not href_pattern.match(a['href']):\n",
    "            links.append(a['href'])\n",
    "    return links\n",
    "\n",
    "get_internal_links(doc)"
   ],
   "id": "2d7f2ed1a1b05237",
   "outputs": [
    {
     "data": {
      "text/plain": [
       "['group__core__npp.html',\n",
       " 'group__nppi.html',\n",
       " 'group__npps.html',\n",
       " 'group__common.html',\n",
       " 'group__features.html',\n",
       " 'group__filters.html',\n",
       " 'group__geometry.html',\n",
       " 'group__io.html',\n",
       " 'group__kdtree.html',\n",
       " 'group__keypoints.html',\n",
       " 'group__octree.html',\n",
       " 'group__outofcore.html',\n",
       " 'group__recognition.html',\n",
       " 'group__registration.html',\n",
       " 'group__sample__consensus.html',\n",
       " 'group__search.html',\n",
       " 'group__segmentation.html',\n",
       " 'group__surface.html',\n",
       " 'group__visualization.html']"
      ]
     },
     "execution_count": 3,
     "metadata": {},
     "output_type": "execute_result"
    }
   ],
   "execution_count": 3
  },
  {
   "metadata": {
    "ExecuteTime": {
     "end_time": "2024-09-16T15:27:27.340805Z",
     "start_time": "2024-09-16T15:27:26.426379Z"
    }
   },
   "cell_type": "code",
   "source": [
    "for link in get_internal_links(doc):\n",
    "    with open(url_location + link, \"r\") as f:\n",
    "        doc_core = BeautifulSoup(f, \"html.parser\")\n",
    "    print(doc_core.find(\"h1\"))"
   ],
   "id": "b48d571f13f9744e",
   "outputs": [
    {
     "name": "stdout",
     "output_type": "stream",
     "text": [
      "None\n",
      "None\n",
      "None\n",
      "<h1><a class=\"anchor\" id=\"secCommonPresentation\"></a>\n",
      "Overview</h1>\n",
      "<h1><a class=\"anchor\" id=\"secFeaturesPresentation\"></a>\n",
      "Overview</h1>\n",
      "<h1><a class=\"anchor\" id=\"secFiltersPresentation\"></a>\n",
      "Overview</h1>\n",
      "<h1><a class=\"anchor\" id=\"secGeometryPresentation\"></a>\n",
      "Overview</h1>\n",
      "<h1><a class=\"anchor\" id=\"secIoPresentation\"></a>\n",
      "Overview</h1>\n",
      "<h1><a class=\"anchor\" id=\"secKDtreePresentation\"></a>\n",
      "Overview</h1>\n",
      "<h1><a class=\"anchor\" id=\"secKeypointsPresentation\"></a>\n",
      "Overview</h1>\n",
      "<h1><a class=\"anchor\" id=\"secOctreePresentation\"></a>\n",
      "Overview</h1>\n",
      "<h1><a class=\"anchor\" id=\"secOutofcoreOctree\"></a>\n",
      "Overview</h1>\n",
      "<h1><a class=\"anchor\" id=\"secRecognitionPresentation\"></a>\n",
      "Overview</h1>\n",
      "<h1><a class=\"anchor\" id=\"secRegistrationPresentation\"></a>\n",
      "Overview</h1>\n",
      "<h1><a class=\"anchor\" id=\"secSampleConsensusPresentation\"></a>\n",
      "Overview</h1>\n",
      "<h1><a class=\"anchor\" id=\"secSearchPresentation\"></a>\n",
      "Overview</h1>\n",
      "<h1><a class=\"anchor\" id=\"secSegmentationPresentation\"></a>\n",
      "Overview</h1>\n",
      "<h1><a class=\"anchor\" id=\"secSurfacePresentation\"></a>\n",
      "Overview</h1>\n",
      "<h1><a class=\"anchor\" id=\"secVisualizationPresentation\"></a>\n",
      "Overview</h1>\n"
     ]
    }
   ],
   "execution_count": 4
  },
  {
   "metadata": {
    "ExecuteTime": {
     "end_time": "2024-09-16T15:30:23.096678Z",
     "start_time": "2024-09-16T15:30:22.609130Z"
    }
   },
   "cell_type": "code",
   "source": [
    "with open(url_location + \"group__common.html\", \"r\") as f:\n",
    "    doc_common = BeautifulSoup(f, \"html.parser\")\n",
    "\n",
    "doc_common.find_all(\"div\", {\"class\": \"memitem\"})[2].get_text()"
   ],
   "id": "be8659a19f76cdbe",
   "outputs": [
    {
     "data": {
      "text/plain": [
       "'\\n\\n\\n\\nusing pcl::BorderTraits = typedef std::bitset<32>\\n\\n\\n\\n#include <pcl/point_types.h>\\nData type to store extended information about a transition from foreground to backgroundSpecification of the fields for BorderDescription::traits. \\nDefinition at line 307 of file point_types.h.\\n\\n'"
      ]
     },
     "execution_count": 15,
     "metadata": {},
     "output_type": "execute_result"
    }
   ],
   "execution_count": 15
  },
  {
   "metadata": {
    "ExecuteTime": {
     "end_time": "2024-09-16T15:27:27.914356Z",
     "start_time": "2024-09-16T15:27:27.913044Z"
    }
   },
   "cell_type": "code",
   "source": "",
   "id": "6b0c1738b97d7476",
   "outputs": [],
   "execution_count": null
  }
 ],
 "metadata": {
  "kernelspec": {
   "display_name": "Python 3",
   "language": "python",
   "name": "python3"
  },
  "language_info": {
   "codemirror_mode": {
    "name": "ipython",
    "version": 2
   },
   "file_extension": ".py",
   "mimetype": "text/x-python",
   "name": "python",
   "nbconvert_exporter": "python",
   "pygments_lexer": "ipython2",
   "version": "2.7.6"
  }
 },
 "nbformat": 4,
 "nbformat_minor": 5
}
